{
 "cells": [
  {
   "cell_type": "code",
   "execution_count": 25,
   "metadata": {},
   "outputs": [],
   "source": [
    "import pandas as pd"
   ]
  },
  {
   "cell_type": "code",
   "execution_count": 26,
   "metadata": {},
   "outputs": [
    {
     "data": {
      "text/html": [
       "<div>\n",
       "<style scoped>\n",
       "    .dataframe tbody tr th:only-of-type {\n",
       "        vertical-align: middle;\n",
       "    }\n",
       "\n",
       "    .dataframe tbody tr th {\n",
       "        vertical-align: top;\n",
       "    }\n",
       "\n",
       "    .dataframe thead th {\n",
       "        text-align: right;\n",
       "    }\n",
       "</style>\n",
       "<table border=\"1\" class=\"dataframe\">\n",
       "  <thead>\n",
       "    <tr style=\"text-align: right;\">\n",
       "      <th></th>\n",
       "      <th>Date</th>\n",
       "      <th>Hotel</th>\n",
       "      <th>Sales</th>\n",
       "    </tr>\n",
       "  </thead>\n",
       "  <tbody>\n",
       "    <tr>\n",
       "      <th>0</th>\n",
       "      <td>2016-01-01</td>\n",
       "      <td>21</td>\n",
       "      <td>497433</td>\n",
       "    </tr>\n",
       "    <tr>\n",
       "      <th>1</th>\n",
       "      <td>2016-01-01</td>\n",
       "      <td>22</td>\n",
       "      <td>507554</td>\n",
       "    </tr>\n",
       "    <tr>\n",
       "      <th>2</th>\n",
       "      <td>2016-01-01</td>\n",
       "      <td>23</td>\n",
       "      <td>756729</td>\n",
       "    </tr>\n",
       "    <tr>\n",
       "      <th>3</th>\n",
       "      <td>2016-01-01</td>\n",
       "      <td>24</td>\n",
       "      <td>715910</td>\n",
       "    </tr>\n",
       "    <tr>\n",
       "      <th>4</th>\n",
       "      <td>2016-01-01</td>\n",
       "      <td>25</td>\n",
       "      <td>1158284</td>\n",
       "    </tr>\n",
       "    <tr>\n",
       "      <th>...</th>\n",
       "      <td>...</td>\n",
       "      <td>...</td>\n",
       "      <td>...</td>\n",
       "    </tr>\n",
       "    <tr>\n",
       "      <th>710</th>\n",
       "      <td>2020-03-26</td>\n",
       "      <td>27</td>\n",
       "      <td>632739</td>\n",
       "    </tr>\n",
       "    <tr>\n",
       "      <th>711</th>\n",
       "      <td>2020-03-26</td>\n",
       "      <td>28</td>\n",
       "      <td>3074330</td>\n",
       "    </tr>\n",
       "    <tr>\n",
       "      <th>712</th>\n",
       "      <td>2020-03-26</td>\n",
       "      <td>29</td>\n",
       "      <td>1306386</td>\n",
       "    </tr>\n",
       "    <tr>\n",
       "      <th>713</th>\n",
       "      <td>2020-03-26</td>\n",
       "      <td>30</td>\n",
       "      <td>448709</td>\n",
       "    </tr>\n",
       "    <tr>\n",
       "      <th>714</th>\n",
       "      <td>2020-03-26</td>\n",
       "      <td>59</td>\n",
       "      <td>404948</td>\n",
       "    </tr>\n",
       "  </tbody>\n",
       "</table>\n",
       "<p>715 rows × 3 columns</p>\n",
       "</div>"
      ],
      "text/plain": [
       "           Date  Hotel    Sales\n",
       "0    2016-01-01     21   497433\n",
       "1    2016-01-01     22   507554\n",
       "2    2016-01-01     23   756729\n",
       "3    2016-01-01     24   715910\n",
       "4    2016-01-01     25  1158284\n",
       "..          ...    ...      ...\n",
       "710  2020-03-26     27   632739\n",
       "711  2020-03-26     28  3074330\n",
       "712  2020-03-26     29  1306386\n",
       "713  2020-03-26     30   448709\n",
       "714  2020-03-26     59   404948\n",
       "\n",
       "[715 rows x 3 columns]"
      ]
     },
     "execution_count": 26,
     "metadata": {},
     "output_type": "execute_result"
    }
   ],
   "source": [
    "df = pd.read_csv('data/processed_hotel_sales.csv')\n",
    "df"
   ]
  },
  {
   "cell_type": "code",
   "execution_count": 28,
   "metadata": {},
   "outputs": [
    {
     "data": {
      "text/html": [
       "<div>\n",
       "<style scoped>\n",
       "    .dataframe tbody tr th:only-of-type {\n",
       "        vertical-align: middle;\n",
       "    }\n",
       "\n",
       "    .dataframe tbody tr th {\n",
       "        vertical-align: top;\n",
       "    }\n",
       "\n",
       "    .dataframe thead th {\n",
       "        text-align: right;\n",
       "    }\n",
       "</style>\n",
       "<table border=\"1\" class=\"dataframe\">\n",
       "  <thead>\n",
       "    <tr style=\"text-align: right;\">\n",
       "      <th></th>\n",
       "      <th>Hotel</th>\n",
       "      <th>Sales</th>\n",
       "    </tr>\n",
       "  </thead>\n",
       "  <tbody>\n",
       "    <tr>\n",
       "      <th>count</th>\n",
       "      <td>715.000000</td>\n",
       "      <td>7.150000e+02</td>\n",
       "    </tr>\n",
       "    <tr>\n",
       "      <th>mean</th>\n",
       "      <td>28.545455</td>\n",
       "      <td>8.536095e+05</td>\n",
       "    </tr>\n",
       "    <tr>\n",
       "      <th>std</th>\n",
       "      <td>10.019398</td>\n",
       "      <td>4.509116e+05</td>\n",
       "    </tr>\n",
       "    <tr>\n",
       "      <th>min</th>\n",
       "      <td>21.000000</td>\n",
       "      <td>3.030740e+05</td>\n",
       "    </tr>\n",
       "    <tr>\n",
       "      <th>25%</th>\n",
       "      <td>23.000000</td>\n",
       "      <td>5.384500e+05</td>\n",
       "    </tr>\n",
       "    <tr>\n",
       "      <th>50%</th>\n",
       "      <td>26.000000</td>\n",
       "      <td>7.254230e+05</td>\n",
       "    </tr>\n",
       "    <tr>\n",
       "      <th>75%</th>\n",
       "      <td>29.000000</td>\n",
       "      <td>9.875185e+05</td>\n",
       "    </tr>\n",
       "    <tr>\n",
       "      <th>max</th>\n",
       "      <td>59.000000</td>\n",
       "      <td>3.671528e+06</td>\n",
       "    </tr>\n",
       "  </tbody>\n",
       "</table>\n",
       "</div>"
      ],
      "text/plain": [
       "            Hotel         Sales\n",
       "count  715.000000  7.150000e+02\n",
       "mean    28.545455  8.536095e+05\n",
       "std     10.019398  4.509116e+05\n",
       "min     21.000000  3.030740e+05\n",
       "25%     23.000000  5.384500e+05\n",
       "50%     26.000000  7.254230e+05\n",
       "75%     29.000000  9.875185e+05\n",
       "max     59.000000  3.671528e+06"
      ]
     },
     "execution_count": 28,
     "metadata": {},
     "output_type": "execute_result"
    }
   ],
   "source": [
    "df.describe()"
   ]
  },
  {
   "cell_type": "code",
   "execution_count": 29,
   "metadata": {},
   "outputs": [
    {
     "data": {
      "text/plain": [
       "Date     0\n",
       "Hotel    0\n",
       "Sales    0\n",
       "dtype: int64"
      ]
     },
     "execution_count": 29,
     "metadata": {},
     "output_type": "execute_result"
    }
   ],
   "source": [
    "# Count Missing values\n",
    "df.isnull().sum()"
   ]
  },
  {
   "cell_type": "code",
   "execution_count": 27,
   "metadata": {},
   "outputs": [],
   "source": [
    "# Group the data by \"Hotel\"\n",
    "grouped_df = df.groupby(\"Hotel\")\n",
    "\n",
    "# Create a dataset for each individual hotel\n",
    "datasets = {}\n",
    "for hotel, data in grouped_df:\n",
    "    datasets[hotel] = data\n",
    "\n",
    "# Save each dataset to a separate CSV file\n",
    "for hotel, data in datasets.items():\n",
    "    data.to_csv(f'data/hotel_{hotel}.csv', index=False)\n"
   ]
  },
  {
   "cell_type": "code",
   "execution_count": 37,
   "metadata": {},
   "outputs": [],
   "source": [
    "hotel_21_df = pd.read_csv('data/hotel_21.csv')\n",
    "hotel_22_df = pd.read_csv('data/hotel_22.csv')\n",
    "hotel_23_df = pd.read_csv('data/hotel_23.csv')\n",
    "hotel_24_df = pd.read_csv('data/hotel_24.csv')\n",
    "hotel_25_df = pd.read_csv('data/hotel_25.csv')\n",
    "hotel_26_df = pd.read_csv('data/hotel_26.csv')\n",
    "hotel_27_df = pd.read_csv('data/hotel_27.csv')\n",
    "hotel_28_df = pd.read_csv('data/hotel_28.csv')\n",
    "hotel_29_df = pd.read_csv('data/hotel_29.csv')\n",
    "hotel_30_df = pd.read_csv('data/hotel_30.csv')\n",
    "hotel_59_df = pd.read_csv('data/hotel_59.csv')"
   ]
  },
  {
   "cell_type": "code",
   "execution_count": 44,
   "metadata": {},
   "outputs": [
    {
     "data": {
      "application/vnd.plotly.v1+json": {
       "config": {
        "plotlyServerURL": "https://plot.ly"
       },
       "data": [
        {
         "alignmentgroup": "True",
         "hovertemplate": "Sales=%{y}<extra></extra>",
         "legendgroup": "",
         "marker": {
          "color": "#636efa"
         },
         "name": "",
         "notched": false,
         "offsetgroup": "",
         "orientation": "v",
         "showlegend": false,
         "type": "box",
         "x0": " ",
         "xaxis": "x",
         "y": [
          497433,
          471576,
          443125,
          493939,
          482563,
          564957,
          626379,
          582190,
          751147,
          748373,
          991893,
          1177551,
          1276415,
          470224,
          444669,
          497735,
          501392,
          513146,
          520695,
          531158,
          617990,
          699655,
          786421,
          893187,
          1144109,
          1236036,
          499591,
          545155,
          496050,
          576744,
          602415,
          648306,
          702337,
          676337,
          772065,
          775800,
          899987,
          1188092,
          1565507,
          475774,
          465924,
          450653,
          477398,
          517065,
          576567,
          677599,
          734227,
          848886,
          921769,
          981644,
          1217270,
          1371450,
          514058,
          544228,
          532875,
          545710,
          607190,
          685123,
          886800,
          773706,
          907409,
          853415,
          1097753,
          1320535,
          1603724
         ],
         "y0": " ",
         "yaxis": "y"
        },
        {
         "alignmentgroup": "True",
         "hovertemplate": "Sales=%{y}<extra></extra>",
         "legendgroup": "",
         "marker": {
          "color": "#636efa"
         },
         "name": "",
         "notched": false,
         "offsetgroup": "",
         "orientation": "v",
         "showlegend": false,
         "type": "box",
         "x0": " ",
         "xaxis": "x2",
         "y": [
          507554,
          520236,
          475559,
          511246,
          504016,
          543242,
          570814,
          506150,
          642712,
          624598,
          732833,
          768197,
          798464,
          511698,
          498022,
          537849,
          507536,
          536482,
          547242,
          538380,
          587729,
          636593,
          689208,
          674060,
          798322,
          830536,
          504512,
          551910,
          531896,
          559697,
          570693,
          594771,
          629435,
          578349,
          641142,
          656776,
          727497,
          848482,
          1018101,
          568714,
          531323,
          516935,
          537358,
          562647,
          627703,
          660140,
          676199,
          730477,
          754894,
          731887,
          861552,
          893671,
          573596,
          603870,
          563935,
          572800,
          616093,
          654014,
          773504,
          637200,
          633848,
          517242,
          646207,
          695766,
          755747
         ],
         "y0": " ",
         "yaxis": "y2"
        },
        {
         "alignmentgroup": "True",
         "hovertemplate": "Sales=%{y}<extra></extra>",
         "legendgroup": "",
         "marker": {
          "color": "#636efa"
         },
         "name": "",
         "notched": false,
         "offsetgroup": "",
         "orientation": "v",
         "showlegend": false,
         "type": "box",
         "x0": " ",
         "xaxis": "x3",
         "y": [
          756729,
          758196,
          728408,
          787146,
          797220,
          811512,
          827339,
          726658,
          869869,
          892669,
          873839,
          795216,
          781693,
          743345,
          705866,
          802210,
          787439,
          785059,
          819106,
          813591,
          844962,
          870419,
          914731,
          806691,
          884513,
          866531,
          728017,
          780792,
          737830,
          802544,
          782960,
          820516,
          843680,
          735061,
          868099,
          916165,
          934657,
          856999,
          836167,
          648909,
          666134,
          625163,
          663324,
          700232,
          735012,
          740699,
          767370,
          808288,
          822051,
          753857,
          783860,
          769400,
          648779,
          738631,
          660304,
          709698,
          725423,
          760959,
          844041,
          686767,
          624365,
          471773,
          556992,
          544735,
          550329
         ],
         "y0": " ",
         "yaxis": "y3"
        },
        {
         "alignmentgroup": "True",
         "hovertemplate": "Sales=%{y}<extra></extra>",
         "legendgroup": "",
         "marker": {
          "color": "#636efa"
         },
         "name": "",
         "notched": false,
         "offsetgroup": "",
         "orientation": "v",
         "showlegend": false,
         "type": "box",
         "x0": " ",
         "xaxis": "x4",
         "y": [
          715910,
          703500,
          646767,
          695197,
          698461,
          743555,
          868397,
          790069,
          880028,
          825478,
          908714,
          990089,
          997266,
          684969,
          617419,
          693432,
          663876,
          754125,
          766308,
          715979,
          741739,
          828754,
          857272,
          763109,
          920260,
          935974,
          618252,
          684474,
          649348,
          730126,
          749385,
          738993,
          746310,
          730986,
          826280,
          764907,
          844865,
          968971,
          1022907,
          647173,
          632756,
          618535,
          648730,
          683229,
          734944,
          772182,
          799048,
          845272,
          853688,
          849244,
          921322,
          946025,
          710796,
          707003,
          682554,
          706092,
          744613,
          837848,
          1214703,
          1010517,
          982196,
          684721,
          810260,
          837402,
          897993
         ],
         "y0": " ",
         "yaxis": "y4"
        },
        {
         "alignmentgroup": "True",
         "hovertemplate": "Sales=%{y}<extra></extra>",
         "legendgroup": "",
         "marker": {
          "color": "#636efa"
         },
         "name": "",
         "notched": false,
         "offsetgroup": "",
         "orientation": "v",
         "showlegend": false,
         "type": "box",
         "x0": " ",
         "xaxis": "x5",
         "y": [
          1158284,
          1104108,
          1038355,
          1131746,
          1127289,
          1203005,
          1246071,
          1064345,
          1459933,
          1494142,
          1474721,
          1451067,
          1471593,
          1153588,
          1104040,
          1176136,
          1153278,
          1253247,
          1224764,
          1234741,
          1311997,
          1507609,
          1651036,
          1342547,
          1537820,
          1551503,
          1145525,
          1214750,
          1161545,
          1299381,
          1281830,
          1331303,
          1355057,
          1197397,
          1589444,
          1678295,
          1647816,
          1613569,
          1799289,
          1285172,
          1177398,
          1209737,
          1296121,
          1344374,
          1404241,
          1449657,
          1499308,
          1746961,
          1829048,
          1571139,
          1707469,
          1719521,
          1389244,
          1403451,
          1349631,
          1469826,
          1546969,
          1549553,
          1424911,
          1173958,
          1262832,
          971022,
          1268606,
          1418149,
          1532659
         ],
         "y0": " ",
         "yaxis": "y5"
        },
        {
         "alignmentgroup": "True",
         "hovertemplate": "Sales=%{y}<extra></extra>",
         "legendgroup": "",
         "marker": {
          "color": "#636efa"
         },
         "name": "",
         "notched": false,
         "offsetgroup": "",
         "orientation": "v",
         "showlegend": false,
         "type": "box",
         "x0": " ",
         "xaxis": "x6",
         "y": [
          550185,
          562065,
          525162,
          563491,
          536122,
          553713,
          568681,
          508006,
          630287,
          590040,
          590464,
          604205,
          601432,
          556602,
          536007,
          553685,
          558523,
          582623,
          572465,
          557486,
          574829,
          600044,
          646282,
          551395,
          664315,
          633370,
          565029,
          582735,
          595592,
          585593,
          585952,
          580301,
          587411,
          551629,
          639472,
          623578,
          671931,
          659959,
          680645,
          644307,
          584756,
          585950,
          584784,
          621579,
          667158,
          650925,
          637792,
          646934,
          678108,
          644168,
          731575,
          730361,
          623541,
          636637,
          602996,
          610658,
          644702,
          688875,
          683411,
          588343,
          569387,
          399798,
          491480,
          497080,
          492243
         ],
         "y0": " ",
         "yaxis": "y6"
        },
        {
         "alignmentgroup": "True",
         "hovertemplate": "Sales=%{y}<extra></extra>",
         "legendgroup": "",
         "marker": {
          "color": "#636efa"
         },
         "name": "",
         "notched": false,
         "offsetgroup": "",
         "orientation": "v",
         "showlegend": false,
         "type": "box",
         "x0": " ",
         "xaxis": "x7",
         "y": [
          984948,
          965048,
          898549,
          937884,
          915284,
          934071,
          958366,
          825057,
          1046801,
          1023253,
          980333,
          979115,
          1014415,
          933976,
          908250,
          940034,
          927556,
          959752,
          941493,
          924770,
          952707,
          1097688,
          1112090,
          896223,
          1063085,
          1074397,
          815639,
          843482,
          825035,
          859698,
          866311,
          873726,
          890828,
          778435,
          993013,
          921073,
          916143,
          919902,
          984828,
          885625,
          772373,
          764629,
          777371,
          801389,
          810991,
          812505,
          832135,
          844947,
          857277,
          768849,
          871871,
          867429,
          808838,
          820429,
          789897,
          792542,
          829617,
          831767,
          752312,
          621963,
          637421,
          469620,
          597657,
          609806,
          632739
         ],
         "y0": " ",
         "yaxis": "y7"
        },
        {
         "alignmentgroup": "True",
         "hovertemplate": "Sales=%{y}<extra></extra>",
         "legendgroup": "",
         "marker": {
          "color": "#636efa"
         },
         "name": "",
         "notched": false,
         "offsetgroup": "",
         "orientation": "v",
         "showlegend": false,
         "type": "box",
         "x0": " ",
         "xaxis": "x8",
         "y": [
          339843,
          360224,
          386185,
          453669,
          482938,
          571091,
          740039,
          719916,
          1222861,
          1490455,
          2061291,
          2349408,
          2348492,
          355643,
          407703,
          484789,
          439207,
          436460,
          441284,
          545734,
          677604,
          947416,
          1670536,
          1863890,
          2293736,
          2586202,
          471226,
          446576,
          400558,
          448153,
          518538,
          642141,
          738885,
          807816,
          929099,
          1270720,
          1729558,
          2477387,
          3671528,
          559396,
          665125,
          508759,
          476198,
          486605,
          639312,
          887292,
          1084618,
          1313587,
          1689794,
          1851790,
          2306505,
          2661885,
          484374,
          513652,
          489591,
          559651,
          626858,
          808582,
          878747,
          727018,
          1058570,
          1377040,
          1898619,
          2482222,
          3074330
         ],
         "y0": " ",
         "yaxis": "y8"
        },
        {
         "alignmentgroup": "True",
         "hovertemplate": "Sales=%{y}<extra></extra>",
         "legendgroup": "",
         "marker": {
          "color": "#636efa"
         },
         "name": "",
         "notched": false,
         "offsetgroup": "",
         "orientation": "v",
         "showlegend": false,
         "type": "box",
         "x0": " ",
         "xaxis": "x9",
         "y": [
          1467641,
          1414187,
          1325184,
          1517077,
          1450086,
          1592017,
          1525169,
          1332094,
          1619712,
          1517944,
          1591297,
          1573197,
          1579986,
          1536821,
          1427598,
          1535847,
          1564978,
          1734541,
          1549583,
          1558151,
          1492893,
          1754960,
          1649055,
          1392567,
          1826679,
          1705421,
          1626460,
          1587811,
          1552235,
          1797740,
          1610393,
          1846308,
          1686848,
          1596371,
          1828628,
          1803562,
          1762329,
          1915182,
          1888454,
          1613314,
          1493526,
          1565128,
          1696700,
          1685132,
          1740313,
          1728786,
          1743201,
          1736481,
          1799021,
          1633150,
          1850568,
          1928147,
          1600719,
          1658583,
          1585676,
          1788333,
          1833068,
          1836467,
          1872622,
          1585693,
          1470857,
          1150409,
          1373297,
          1294672,
          1306386
         ],
         "y0": " ",
         "yaxis": "y9"
        },
        {
         "alignmentgroup": "True",
         "hovertemplate": "Sales=%{y}<extra></extra>",
         "legendgroup": "",
         "marker": {
          "color": "#636efa"
         },
         "name": "",
         "notched": false,
         "offsetgroup": "",
         "orientation": "v",
         "showlegend": false,
         "type": "box",
         "x0": " ",
         "xaxis": "x10",
         "y": [
          466864,
          440354,
          431780,
          471767,
          460515,
          498118,
          529447,
          446432,
          575042,
          614564,
          633604,
          621183,
          656643,
          459346,
          435958,
          483048,
          476960,
          477140,
          478068,
          483304,
          538520,
          567117,
          611365,
          526977,
          633386,
          663217,
          423775,
          481513,
          449622,
          503904,
          509707,
          531426,
          554104,
          491870,
          568734,
          545400,
          595755,
          653841,
          671403,
          442199,
          440048,
          420374,
          432628,
          467925,
          495900,
          534978,
          539949,
          563468,
          565516,
          529194,
          601013,
          633707,
          467626,
          478964,
          457486,
          486677,
          528287,
          536924,
          596931,
          537977,
          494567,
          348702,
          426746,
          441260,
          448709
         ],
         "y0": " ",
         "yaxis": "y10"
        },
        {
         "alignmentgroup": "True",
         "hovertemplate": "Sales=%{y}<extra></extra>",
         "legendgroup": "",
         "marker": {
          "color": "#636efa"
         },
         "name": "",
         "notched": false,
         "offsetgroup": "",
         "orientation": "v",
         "showlegend": false,
         "type": "box",
         "x0": " ",
         "xaxis": "x11",
         "y": [
          375196,
          355897,
          337961,
          362579,
          339167,
          345329,
          374084,
          340063,
          448747,
          416171,
          400812,
          393667,
          385650,
          371500,
          364836,
          369250,
          376974,
          395627,
          365375,
          394411,
          424192,
          433295,
          433708,
          388168,
          476261,
          445930,
          355009,
          373043,
          356722,
          383904,
          389836,
          396962,
          419347,
          376429,
          437907,
          412575,
          452467,
          456981,
          430155,
          359469,
          336194,
          343227,
          356901,
          362601,
          392625,
          428773,
          435282,
          417782,
          431429,
          403426,
          474773,
          435854,
          374665,
          364613,
          356311,
          379030,
          384428,
          410342,
          413344,
          351975,
          346356,
          303074,
          394526,
          405928,
          404948
         ],
         "y0": " ",
         "yaxis": "y11"
        }
       ],
       "layout": {
        "annotations": [
         {
          "font": {
           "size": 16
          },
          "showarrow": false,
          "text": "Hotel 21",
          "x": 0.14444444444444446,
          "xanchor": "center",
          "xref": "paper",
          "y": 1,
          "yanchor": "bottom",
          "yref": "paper"
         },
         {
          "font": {
           "size": 16
          },
          "showarrow": false,
          "text": "Hotel 22",
          "x": 0.5,
          "xanchor": "center",
          "xref": "paper",
          "y": 1,
          "yanchor": "bottom",
          "yref": "paper"
         },
         {
          "font": {
           "size": 16
          },
          "showarrow": false,
          "text": "Hotel 23",
          "x": 0.8555555555555556,
          "xanchor": "center",
          "xref": "paper",
          "y": 1,
          "yanchor": "bottom",
          "yref": "paper"
         },
         {
          "font": {
           "size": 16
          },
          "showarrow": false,
          "text": "Hotel 24",
          "x": 0.14444444444444446,
          "xanchor": "center",
          "xref": "paper",
          "y": 0.7274999999999999,
          "yanchor": "bottom",
          "yref": "paper"
         },
         {
          "font": {
           "size": 16
          },
          "showarrow": false,
          "text": "Hotel 25",
          "x": 0.5,
          "xanchor": "center",
          "xref": "paper",
          "y": 0.7274999999999999,
          "yanchor": "bottom",
          "yref": "paper"
         },
         {
          "font": {
           "size": 16
          },
          "showarrow": false,
          "text": "Hotel 26",
          "x": 0.8555555555555556,
          "xanchor": "center",
          "xref": "paper",
          "y": 0.7274999999999999,
          "yanchor": "bottom",
          "yref": "paper"
         },
         {
          "font": {
           "size": 16
          },
          "showarrow": false,
          "text": "Hotel 27",
          "x": 0.14444444444444446,
          "xanchor": "center",
          "xref": "paper",
          "y": 0.45499999999999996,
          "yanchor": "bottom",
          "yref": "paper"
         },
         {
          "font": {
           "size": 16
          },
          "showarrow": false,
          "text": "Hotel 28",
          "x": 0.5,
          "xanchor": "center",
          "xref": "paper",
          "y": 0.45499999999999996,
          "yanchor": "bottom",
          "yref": "paper"
         },
         {
          "font": {
           "size": 16
          },
          "showarrow": false,
          "text": "Hotel 29",
          "x": 0.8555555555555556,
          "xanchor": "center",
          "xref": "paper",
          "y": 0.45499999999999996,
          "yanchor": "bottom",
          "yref": "paper"
         },
         {
          "font": {
           "size": 16
          },
          "showarrow": false,
          "text": "Hotel 30",
          "x": 0.14444444444444446,
          "xanchor": "center",
          "xref": "paper",
          "y": 0.1825,
          "yanchor": "bottom",
          "yref": "paper"
         },
         {
          "font": {
           "size": 16
          },
          "showarrow": false,
          "text": "Hotel 59",
          "x": 0.5,
          "xanchor": "center",
          "xref": "paper",
          "y": 0.1825,
          "yanchor": "bottom",
          "yref": "paper"
         }
        ],
        "height": 2000,
        "template": {
         "data": {
          "bar": [
           {
            "error_x": {
             "color": "#2a3f5f"
            },
            "error_y": {
             "color": "#2a3f5f"
            },
            "marker": {
             "line": {
              "color": "#E5ECF6",
              "width": 0.5
             },
             "pattern": {
              "fillmode": "overlay",
              "size": 10,
              "solidity": 0.2
             }
            },
            "type": "bar"
           }
          ],
          "barpolar": [
           {
            "marker": {
             "line": {
              "color": "#E5ECF6",
              "width": 0.5
             },
             "pattern": {
              "fillmode": "overlay",
              "size": 10,
              "solidity": 0.2
             }
            },
            "type": "barpolar"
           }
          ],
          "carpet": [
           {
            "aaxis": {
             "endlinecolor": "#2a3f5f",
             "gridcolor": "white",
             "linecolor": "white",
             "minorgridcolor": "white",
             "startlinecolor": "#2a3f5f"
            },
            "baxis": {
             "endlinecolor": "#2a3f5f",
             "gridcolor": "white",
             "linecolor": "white",
             "minorgridcolor": "white",
             "startlinecolor": "#2a3f5f"
            },
            "type": "carpet"
           }
          ],
          "choropleth": [
           {
            "colorbar": {
             "outlinewidth": 0,
             "ticks": ""
            },
            "type": "choropleth"
           }
          ],
          "contour": [
           {
            "colorbar": {
             "outlinewidth": 0,
             "ticks": ""
            },
            "colorscale": [
             [
              0,
              "#0d0887"
             ],
             [
              0.1111111111111111,
              "#46039f"
             ],
             [
              0.2222222222222222,
              "#7201a8"
             ],
             [
              0.3333333333333333,
              "#9c179e"
             ],
             [
              0.4444444444444444,
              "#bd3786"
             ],
             [
              0.5555555555555556,
              "#d8576b"
             ],
             [
              0.6666666666666666,
              "#ed7953"
             ],
             [
              0.7777777777777778,
              "#fb9f3a"
             ],
             [
              0.8888888888888888,
              "#fdca26"
             ],
             [
              1,
              "#f0f921"
             ]
            ],
            "type": "contour"
           }
          ],
          "contourcarpet": [
           {
            "colorbar": {
             "outlinewidth": 0,
             "ticks": ""
            },
            "type": "contourcarpet"
           }
          ],
          "heatmap": [
           {
            "colorbar": {
             "outlinewidth": 0,
             "ticks": ""
            },
            "colorscale": [
             [
              0,
              "#0d0887"
             ],
             [
              0.1111111111111111,
              "#46039f"
             ],
             [
              0.2222222222222222,
              "#7201a8"
             ],
             [
              0.3333333333333333,
              "#9c179e"
             ],
             [
              0.4444444444444444,
              "#bd3786"
             ],
             [
              0.5555555555555556,
              "#d8576b"
             ],
             [
              0.6666666666666666,
              "#ed7953"
             ],
             [
              0.7777777777777778,
              "#fb9f3a"
             ],
             [
              0.8888888888888888,
              "#fdca26"
             ],
             [
              1,
              "#f0f921"
             ]
            ],
            "type": "heatmap"
           }
          ],
          "heatmapgl": [
           {
            "colorbar": {
             "outlinewidth": 0,
             "ticks": ""
            },
            "colorscale": [
             [
              0,
              "#0d0887"
             ],
             [
              0.1111111111111111,
              "#46039f"
             ],
             [
              0.2222222222222222,
              "#7201a8"
             ],
             [
              0.3333333333333333,
              "#9c179e"
             ],
             [
              0.4444444444444444,
              "#bd3786"
             ],
             [
              0.5555555555555556,
              "#d8576b"
             ],
             [
              0.6666666666666666,
              "#ed7953"
             ],
             [
              0.7777777777777778,
              "#fb9f3a"
             ],
             [
              0.8888888888888888,
              "#fdca26"
             ],
             [
              1,
              "#f0f921"
             ]
            ],
            "type": "heatmapgl"
           }
          ],
          "histogram": [
           {
            "marker": {
             "pattern": {
              "fillmode": "overlay",
              "size": 10,
              "solidity": 0.2
             }
            },
            "type": "histogram"
           }
          ],
          "histogram2d": [
           {
            "colorbar": {
             "outlinewidth": 0,
             "ticks": ""
            },
            "colorscale": [
             [
              0,
              "#0d0887"
             ],
             [
              0.1111111111111111,
              "#46039f"
             ],
             [
              0.2222222222222222,
              "#7201a8"
             ],
             [
              0.3333333333333333,
              "#9c179e"
             ],
             [
              0.4444444444444444,
              "#bd3786"
             ],
             [
              0.5555555555555556,
              "#d8576b"
             ],
             [
              0.6666666666666666,
              "#ed7953"
             ],
             [
              0.7777777777777778,
              "#fb9f3a"
             ],
             [
              0.8888888888888888,
              "#fdca26"
             ],
             [
              1,
              "#f0f921"
             ]
            ],
            "type": "histogram2d"
           }
          ],
          "histogram2dcontour": [
           {
            "colorbar": {
             "outlinewidth": 0,
             "ticks": ""
            },
            "colorscale": [
             [
              0,
              "#0d0887"
             ],
             [
              0.1111111111111111,
              "#46039f"
             ],
             [
              0.2222222222222222,
              "#7201a8"
             ],
             [
              0.3333333333333333,
              "#9c179e"
             ],
             [
              0.4444444444444444,
              "#bd3786"
             ],
             [
              0.5555555555555556,
              "#d8576b"
             ],
             [
              0.6666666666666666,
              "#ed7953"
             ],
             [
              0.7777777777777778,
              "#fb9f3a"
             ],
             [
              0.8888888888888888,
              "#fdca26"
             ],
             [
              1,
              "#f0f921"
             ]
            ],
            "type": "histogram2dcontour"
           }
          ],
          "mesh3d": [
           {
            "colorbar": {
             "outlinewidth": 0,
             "ticks": ""
            },
            "type": "mesh3d"
           }
          ],
          "parcoords": [
           {
            "line": {
             "colorbar": {
              "outlinewidth": 0,
              "ticks": ""
             }
            },
            "type": "parcoords"
           }
          ],
          "pie": [
           {
            "automargin": true,
            "type": "pie"
           }
          ],
          "scatter": [
           {
            "fillpattern": {
             "fillmode": "overlay",
             "size": 10,
             "solidity": 0.2
            },
            "type": "scatter"
           }
          ],
          "scatter3d": [
           {
            "line": {
             "colorbar": {
              "outlinewidth": 0,
              "ticks": ""
             }
            },
            "marker": {
             "colorbar": {
              "outlinewidth": 0,
              "ticks": ""
             }
            },
            "type": "scatter3d"
           }
          ],
          "scattercarpet": [
           {
            "marker": {
             "colorbar": {
              "outlinewidth": 0,
              "ticks": ""
             }
            },
            "type": "scattercarpet"
           }
          ],
          "scattergeo": [
           {
            "marker": {
             "colorbar": {
              "outlinewidth": 0,
              "ticks": ""
             }
            },
            "type": "scattergeo"
           }
          ],
          "scattergl": [
           {
            "marker": {
             "colorbar": {
              "outlinewidth": 0,
              "ticks": ""
             }
            },
            "type": "scattergl"
           }
          ],
          "scattermapbox": [
           {
            "marker": {
             "colorbar": {
              "outlinewidth": 0,
              "ticks": ""
             }
            },
            "type": "scattermapbox"
           }
          ],
          "scatterpolar": [
           {
            "marker": {
             "colorbar": {
              "outlinewidth": 0,
              "ticks": ""
             }
            },
            "type": "scatterpolar"
           }
          ],
          "scatterpolargl": [
           {
            "marker": {
             "colorbar": {
              "outlinewidth": 0,
              "ticks": ""
             }
            },
            "type": "scatterpolargl"
           }
          ],
          "scatterternary": [
           {
            "marker": {
             "colorbar": {
              "outlinewidth": 0,
              "ticks": ""
             }
            },
            "type": "scatterternary"
           }
          ],
          "surface": [
           {
            "colorbar": {
             "outlinewidth": 0,
             "ticks": ""
            },
            "colorscale": [
             [
              0,
              "#0d0887"
             ],
             [
              0.1111111111111111,
              "#46039f"
             ],
             [
              0.2222222222222222,
              "#7201a8"
             ],
             [
              0.3333333333333333,
              "#9c179e"
             ],
             [
              0.4444444444444444,
              "#bd3786"
             ],
             [
              0.5555555555555556,
              "#d8576b"
             ],
             [
              0.6666666666666666,
              "#ed7953"
             ],
             [
              0.7777777777777778,
              "#fb9f3a"
             ],
             [
              0.8888888888888888,
              "#fdca26"
             ],
             [
              1,
              "#f0f921"
             ]
            ],
            "type": "surface"
           }
          ],
          "table": [
           {
            "cells": {
             "fill": {
              "color": "#EBF0F8"
             },
             "line": {
              "color": "white"
             }
            },
            "header": {
             "fill": {
              "color": "#C8D4E3"
             },
             "line": {
              "color": "white"
             }
            },
            "type": "table"
           }
          ]
         },
         "layout": {
          "annotationdefaults": {
           "arrowcolor": "#2a3f5f",
           "arrowhead": 0,
           "arrowwidth": 1
          },
          "autotypenumbers": "strict",
          "coloraxis": {
           "colorbar": {
            "outlinewidth": 0,
            "ticks": ""
           }
          },
          "colorscale": {
           "diverging": [
            [
             0,
             "#8e0152"
            ],
            [
             0.1,
             "#c51b7d"
            ],
            [
             0.2,
             "#de77ae"
            ],
            [
             0.3,
             "#f1b6da"
            ],
            [
             0.4,
             "#fde0ef"
            ],
            [
             0.5,
             "#f7f7f7"
            ],
            [
             0.6,
             "#e6f5d0"
            ],
            [
             0.7,
             "#b8e186"
            ],
            [
             0.8,
             "#7fbc41"
            ],
            [
             0.9,
             "#4d9221"
            ],
            [
             1,
             "#276419"
            ]
           ],
           "sequential": [
            [
             0,
             "#0d0887"
            ],
            [
             0.1111111111111111,
             "#46039f"
            ],
            [
             0.2222222222222222,
             "#7201a8"
            ],
            [
             0.3333333333333333,
             "#9c179e"
            ],
            [
             0.4444444444444444,
             "#bd3786"
            ],
            [
             0.5555555555555556,
             "#d8576b"
            ],
            [
             0.6666666666666666,
             "#ed7953"
            ],
            [
             0.7777777777777778,
             "#fb9f3a"
            ],
            [
             0.8888888888888888,
             "#fdca26"
            ],
            [
             1,
             "#f0f921"
            ]
           ],
           "sequentialminus": [
            [
             0,
             "#0d0887"
            ],
            [
             0.1111111111111111,
             "#46039f"
            ],
            [
             0.2222222222222222,
             "#7201a8"
            ],
            [
             0.3333333333333333,
             "#9c179e"
            ],
            [
             0.4444444444444444,
             "#bd3786"
            ],
            [
             0.5555555555555556,
             "#d8576b"
            ],
            [
             0.6666666666666666,
             "#ed7953"
            ],
            [
             0.7777777777777778,
             "#fb9f3a"
            ],
            [
             0.8888888888888888,
             "#fdca26"
            ],
            [
             1,
             "#f0f921"
            ]
           ]
          },
          "colorway": [
           "#636efa",
           "#EF553B",
           "#00cc96",
           "#ab63fa",
           "#FFA15A",
           "#19d3f3",
           "#FF6692",
           "#B6E880",
           "#FF97FF",
           "#FECB52"
          ],
          "font": {
           "color": "#2a3f5f"
          },
          "geo": {
           "bgcolor": "white",
           "lakecolor": "white",
           "landcolor": "#E5ECF6",
           "showlakes": true,
           "showland": true,
           "subunitcolor": "white"
          },
          "hoverlabel": {
           "align": "left"
          },
          "hovermode": "closest",
          "mapbox": {
           "style": "light"
          },
          "paper_bgcolor": "white",
          "plot_bgcolor": "#E5ECF6",
          "polar": {
           "angularaxis": {
            "gridcolor": "white",
            "linecolor": "white",
            "ticks": ""
           },
           "bgcolor": "#E5ECF6",
           "radialaxis": {
            "gridcolor": "white",
            "linecolor": "white",
            "ticks": ""
           }
          },
          "scene": {
           "xaxis": {
            "backgroundcolor": "#E5ECF6",
            "gridcolor": "white",
            "gridwidth": 2,
            "linecolor": "white",
            "showbackground": true,
            "ticks": "",
            "zerolinecolor": "white"
           },
           "yaxis": {
            "backgroundcolor": "#E5ECF6",
            "gridcolor": "white",
            "gridwidth": 2,
            "linecolor": "white",
            "showbackground": true,
            "ticks": "",
            "zerolinecolor": "white"
           },
           "zaxis": {
            "backgroundcolor": "#E5ECF6",
            "gridcolor": "white",
            "gridwidth": 2,
            "linecolor": "white",
            "showbackground": true,
            "ticks": "",
            "zerolinecolor": "white"
           }
          },
          "shapedefaults": {
           "line": {
            "color": "#2a3f5f"
           }
          },
          "ternary": {
           "aaxis": {
            "gridcolor": "white",
            "linecolor": "white",
            "ticks": ""
           },
           "baxis": {
            "gridcolor": "white",
            "linecolor": "white",
            "ticks": ""
           },
           "bgcolor": "#E5ECF6",
           "caxis": {
            "gridcolor": "white",
            "linecolor": "white",
            "ticks": ""
           }
          },
          "title": {
           "x": 0.05
          },
          "xaxis": {
           "automargin": true,
           "gridcolor": "white",
           "linecolor": "white",
           "ticks": "",
           "title": {
            "standoff": 15
           },
           "zerolinecolor": "white",
           "zerolinewidth": 2
          },
          "yaxis": {
           "automargin": true,
           "gridcolor": "white",
           "linecolor": "white",
           "ticks": "",
           "title": {
            "standoff": 15
           },
           "zerolinecolor": "white",
           "zerolinewidth": 2
          }
         }
        },
        "xaxis": {
         "anchor": "y",
         "domain": [
          0,
          0.2888888888888889
         ]
        },
        "xaxis10": {
         "anchor": "y10",
         "domain": [
          0,
          0.2888888888888889
         ]
        },
        "xaxis11": {
         "anchor": "y11",
         "domain": [
          0.35555555555555557,
          0.6444444444444445
         ]
        },
        "xaxis12": {
         "anchor": "y12",
         "domain": [
          0.7111111111111111,
          1
         ]
        },
        "xaxis2": {
         "anchor": "y2",
         "domain": [
          0.35555555555555557,
          0.6444444444444445
         ]
        },
        "xaxis3": {
         "anchor": "y3",
         "domain": [
          0.7111111111111111,
          1
         ]
        },
        "xaxis4": {
         "anchor": "y4",
         "domain": [
          0,
          0.2888888888888889
         ]
        },
        "xaxis5": {
         "anchor": "y5",
         "domain": [
          0.35555555555555557,
          0.6444444444444445
         ]
        },
        "xaxis6": {
         "anchor": "y6",
         "domain": [
          0.7111111111111111,
          1
         ]
        },
        "xaxis7": {
         "anchor": "y7",
         "domain": [
          0,
          0.2888888888888889
         ]
        },
        "xaxis8": {
         "anchor": "y8",
         "domain": [
          0.35555555555555557,
          0.6444444444444445
         ]
        },
        "xaxis9": {
         "anchor": "y9",
         "domain": [
          0.7111111111111111,
          1
         ]
        },
        "yaxis": {
         "anchor": "x",
         "domain": [
          0.8175,
          1
         ]
        },
        "yaxis10": {
         "anchor": "x10",
         "domain": [
          0,
          0.1825
         ]
        },
        "yaxis11": {
         "anchor": "x11",
         "domain": [
          0,
          0.1825
         ]
        },
        "yaxis12": {
         "anchor": "x12",
         "domain": [
          0,
          0.1825
         ]
        },
        "yaxis2": {
         "anchor": "x2",
         "domain": [
          0.8175,
          1
         ]
        },
        "yaxis3": {
         "anchor": "x3",
         "domain": [
          0.8175,
          1
         ]
        },
        "yaxis4": {
         "anchor": "x4",
         "domain": [
          0.5449999999999999,
          0.7274999999999999
         ]
        },
        "yaxis5": {
         "anchor": "x5",
         "domain": [
          0.5449999999999999,
          0.7274999999999999
         ]
        },
        "yaxis6": {
         "anchor": "x6",
         "domain": [
          0.5449999999999999,
          0.7274999999999999
         ]
        },
        "yaxis7": {
         "anchor": "x7",
         "domain": [
          0.27249999999999996,
          0.45499999999999996
         ]
        },
        "yaxis8": {
         "anchor": "x8",
         "domain": [
          0.27249999999999996,
          0.45499999999999996
         ]
        },
        "yaxis9": {
         "anchor": "x9",
         "domain": [
          0.27249999999999996,
          0.45499999999999996
         ]
        }
       }
      }
     },
     "metadata": {},
     "output_type": "display_data"
    }
   ],
   "source": [
    "# Find outliers for each Hotels\n",
    "import plotly.express as px\n",
    "import plotly.graph_objects as go\n",
    "\n",
    "fig_21 = px.box(hotel_21_df, y='Sales', title='Hotel 21')\n",
    "fig_22 = px.box(hotel_22_df, y='Sales', title='Hotel 22')\n",
    "fig_23 = px.box(hotel_23_df, y='Sales', title='Hotel 23')\n",
    "fig_24 = px.box(hotel_24_df, y='Sales', title='Hotel 24')\n",
    "fig_25 = px.box(hotel_25_df, y='Sales', title='Hotel 25')\n",
    "fig_26 = px.box(hotel_26_df, y='Sales', title='Hotel 26')\n",
    "fig_27 = px.box(hotel_27_df, y='Sales', title='Hotel 27')\n",
    "fig_28 = px.box(hotel_28_df, y='Sales', title='Hotel 28')\n",
    "fig_29 = px.box(hotel_29_df, y='Sales', title='Hotel 29')\n",
    "fig_30 = px.box(hotel_30_df, y='Sales', title='Hotel 30')\n",
    "fig_59 = px.box(hotel_59_df, y='Sales', title='Hotel 59')\n",
    "\n",
    "from plotly.subplots import make_subplots\n",
    "\n",
    "\n",
    "# Création d'un layout pour les subplots\n",
    "fig = make_subplots(rows=4, cols=3, subplot_titles=('Hotel 21', 'Hotel 22', 'Hotel 23', 'Hotel 24', 'Hotel 25', 'Hotel 26', 'Hotel 27', 'Hotel 28', 'Hotel 29', 'Hotel 30', 'Hotel 59'), vertical_spacing=0.09)\n",
    "\n",
    "# Ajout des boxplots à la figure\n",
    "fig.add_trace(fig_21['data'][0], row=1, col=1)\n",
    "fig.add_trace(fig_22['data'][0], row=1, col=2)\n",
    "fig.add_trace(fig_23['data'][0], row=1, col=3)\n",
    "fig.add_trace(fig_24['data'][0], row=2, col=1)\n",
    "fig.add_trace(fig_25['data'][0], row=2, col=2)\n",
    "fig.add_trace(fig_26['data'][0], row=2, col=3)\n",
    "fig.add_trace(fig_27['data'][0], row=3, col=1)\n",
    "fig.add_trace(fig_28['data'][0], row=3, col=2)\n",
    "fig.add_trace(fig_29['data'][0], row=3, col=3)\n",
    "fig.add_trace(fig_30['data'][0], row=4, col=1)\n",
    "fig.add_trace(fig_59['data'][0], row=4, col=2)\n",
    "\n",
    "# Définition de la hauteur de la figure\n",
    "fig.update_layout(height=2000)\n",
    "\n",
    "# Affichage de la figure\n",
    "fig.show()"
   ]
  },
  {
   "cell_type": "code",
   "execution_count": null,
   "metadata": {},
   "outputs": [],
   "source": []
  }
 ],
 "metadata": {
  "kernelspec": {
   "display_name": "Python 3",
   "language": "python",
   "name": "python3"
  },
  "language_info": {
   "codemirror_mode": {
    "name": "ipython",
    "version": 3
   },
   "file_extension": ".py",
   "mimetype": "text/x-python",
   "name": "python",
   "nbconvert_exporter": "python",
   "pygments_lexer": "ipython3",
   "version": "3.9.6"
  }
 },
 "nbformat": 4,
 "nbformat_minor": 2
}
